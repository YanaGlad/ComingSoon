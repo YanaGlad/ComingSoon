{
  "nbformat": 4,
  "nbformat_minor": 0,
  "metadata": {
    "colab": {
      "provenance": [],
      "authorship_tag": "ABX9TyM6pxYv0cq0TsKMjSTT6nx8",
      "include_colab_link": true
    },
    "kernelspec": {
      "name": "python3",
      "display_name": "Python 3"
    },
    "language_info": {
      "name": "python"
    }
  },
  "cells": [
    {
      "cell_type": "markdown",
      "metadata": {
        "id": "view-in-github",
        "colab_type": "text"
      },
      "source": [
        "<a href=\"https://colab.research.google.com/github/YanaGlad/ComingSoon/blob/master/TaskVSU.ipynb\" target=\"_parent\"><img src=\"https://colab.research.google.com/assets/colab-badge.svg\" alt=\"Open In Colab\"/></a>"
      ]
    },
    {
      "cell_type": "code",
      "source": [
        "import random\n",
        "\n",
        "start = 0\n",
        "end = 100\n",
        "number = random.randrange(start, end)\n",
        "\n",
        "guess = int(input())\n",
        "\n",
        "while guess != number:\n",
        "  if guess < number:\n",
        "    print('Your guess is smaller than actual number')\n",
        "  else: \n",
        "    print('Your guess is greater than actual number')\n",
        "  guess = int(input())\n",
        "\n",
        "print('You succeed! Actual number is ' + str(number))"
      ],
      "metadata": {
        "colab": {
          "base_uri": "https://localhost:8080/"
        },
        "id": "I6VLpgpegbbE",
        "outputId": "65d65cf4-024b-4e68-90c7-4f7060d30370"
      },
      "execution_count": 10,
      "outputs": [
        {
          "output_type": "stream",
          "name": "stdout",
          "text": [
            "60\n",
            "Your guess is smaller than actual number\n",
            "70\n",
            "Your guess is smaller than actual number\n",
            "97\n",
            "Your guess is greater than actual number\n",
            "96\n",
            "Your guess is greater than actual number\n",
            "95\n",
            "Your guess is greater than actual number\n",
            "90\n",
            "Your guess is greater than actual number\n",
            "87\n",
            "Your guess is greater than actual number\n",
            "80\n",
            "Your guess is greater than actual number\n",
            "77\n",
            "Your guess is greater than actual number\n",
            "75\n",
            "Your guess is greater than actual number\n",
            "74\n",
            "You succeed! Actual number is 74\n"
          ]
        }
      ]
    }
  ]
}