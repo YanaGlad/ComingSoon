{
  "nbformat": 4,
  "nbformat_minor": 0,
  "metadata": {
    "colab": {
      "provenance": [],
      "authorship_tag": "ABX9TyOujfFIOnzqvKGtixTgqbz0",
      "include_colab_link": true
    },
    "kernelspec": {
      "name": "python3",
      "display_name": "Python 3"
    },
    "language_info": {
      "name": "python"
    }
  },
  "cells": [
    {
      "cell_type": "markdown",
      "metadata": {
        "id": "view-in-github",
        "colab_type": "text"
      },
      "source": [
        "<a href=\"https://colab.research.google.com/github/YanaGlad/TaskVSU/blob/master/TaskVSU.ipynb\" target=\"_parent\"><img src=\"https://colab.research.google.com/assets/colab-badge.svg\" alt=\"Open In Colab\"/></a>"
      ]
    },
    {
      "cell_type": "code",
      "source": [
        "import random\n",
        "\n",
        "start = 0\n",
        "end = 100\n",
        "number = random.randrange(start, end)\n",
        "\n",
        "guess = int(input())\n",
        "iterations = 1\n",
        "\n",
        "while guess != number:\n",
        "  if guess < number:\n",
        "    print('Your guess is smaller than actual number')\n",
        "  else: \n",
        "    print('Your guess is greater than actual number')\n",
        "  guess = int(input())\n",
        "  iterations+=1\n",
        "\n",
        "print('You succeed! Actual number is ' + str(number) + ' number of iterations taken to complete game: ' + str(iterations))"
      ],
      "metadata": {
        "colab": {
          "base_uri": "https://localhost:8080/"
        },
        "id": "I6VLpgpegbbE",
        "outputId": "82ea5587-11fb-4e6b-f192-4522cff2a2c3"
      },
      "execution_count": 13,
      "outputs": [
        {
          "output_type": "stream",
          "name": "stdout",
          "text": [
            "10\n",
            "Your guess is smaller than actual number\n",
            "50\n",
            "Your guess is greater than actual number\n",
            "40\n",
            "Your guess is greater than actual number\n",
            "20\n",
            "Your guess is smaller than actual number\n",
            "30\n",
            "Your guess is greater than actual number\n",
            "22\n",
            "Your guess is smaller than actual number\n",
            "25\n",
            "Your guess is smaller than actual number\n",
            "28\n",
            "Your guess is greater than actual number\n",
            "27\n",
            "Your guess is greater than actual number\n",
            "26\n",
            "You succeed! Actual number is 26 number of iterations taken to complete game: 10\n"
          ]
        }
      ]
    },
    {
      "cell_type": "code",
      "source": [
        "def factorial(n):\n",
        "    if n < 2:\n",
        "        return 1\n",
        "    else:\n",
        "        return n * factorial(n-1)\n",
        "\n",
        "factorial(4)"
      ],
      "metadata": {
        "colab": {
          "base_uri": "https://localhost:8080/"
        },
        "id": "ZOWUQqV-jtgT",
        "outputId": "c5a787d1-1a38-4846-84b1-3e11696c6c09"
      },
      "execution_count": 16,
      "outputs": [
        {
          "output_type": "execute_result",
          "data": {
            "text/plain": [
              "24"
            ]
          },
          "metadata": {},
          "execution_count": 16
        }
      ]
    },
    {
      "cell_type": "code",
      "source": [
        "def average(*args):\n",
        "  sum = 0\n",
        "  for num in args:\n",
        "     sum+=num\n",
        "  print(sum/len(args))\n",
        "\n",
        "average(1, 2, 3, 4)"
      ],
      "metadata": {
        "colab": {
          "base_uri": "https://localhost:8080/"
        },
        "id": "KIfpawj3kRSQ",
        "outputId": "2c983148-f5f4-4b8a-a05b-7fa5779bfc6a"
      },
      "execution_count": 18,
      "outputs": [
        {
          "output_type": "stream",
          "name": "stdout",
          "text": [
            "2.5\n"
          ]
        }
      ]
    }
  ]
}