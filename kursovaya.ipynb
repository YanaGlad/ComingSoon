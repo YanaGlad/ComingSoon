{
  "cells": [
    {
      "cell_type": "markdown",
      "metadata": {
        "id": "view-in-github",
        "colab_type": "text"
      },
      "source": [
        "<a href=\"https://colab.research.google.com/github/YanaGlad/Numerical-Methods/blob/master/kursovaya.ipynb\" target=\"_parent\"><img src=\"https://colab.research.google.com/assets/colab-badge.svg\" alt=\"Open In Colab\"/></a>"
      ]
    },
    {
      "cell_type": "markdown",
      "metadata": {
        "id": "mYlAZx1TsBee"
      },
      "source": [
        "Считаем данные из файла"
      ]
    },
    {
      "cell_type": "code",
      "execution_count": 8,
      "metadata": {
        "id": "NjO0vpPOrJiu"
      },
      "outputs": [],
      "source": [
        "numbers = []\n",
        "with open(\"test.txt\", \"r\") as file:\n",
        "    for line in file:\n",
        "        numbers.append(int(line))"
      ]
    },
    {
      "cell_type": "code",
      "execution_count": 3,
      "metadata": {
        "id": "Ffe6t-qslqob"
      },
      "outputs": [],
      "source": [
        "def binary_search(lst, target):\n",
        "    low = 0\n",
        "    high = len(lst) - 1\n",
        "    while low <= high:\n",
        "        mid = (low + high) \n",
        "        if lst[mid] == target:\n",
        "            return mid\n",
        "        elif lst[mid] > target:\n",
        "            high = mid - 1\n",
        "        else:\n",
        "            low = mid + 1\n",
        "    return None"
      ]
    },
    {
      "cell_type": "code",
      "execution_count": 14,
      "metadata": {
        "colab": {
          "base_uri": "https://localhost:8080/"
        },
        "id": "WcGIxBt0mdrq",
        "outputId": "c01b4a69-42bb-42c6-cd4f-67fc95f56134"
      },
      "outputs": [
        {
          "output_type": "stream",
          "name": "stdout",
          "text": [
            "(6228, 1052818)\n"
          ]
        }
      ],
      "source": [
        "def two_sum_binary_search(arr, total):\n",
        "    length = len(arr) \n",
        "    arr = sorted(arr)\n",
        "    for i in range(length):\n",
        "        num = total - arr[i]\n",
        "        num_idx = binary_search(arr, num)\n",
        "        if num_idx is not None:  \n",
        "            if num_idx != i:\n",
        "                return (i, num_idx)\n",
        "    return None\n",
        "\n",
        "\n",
        "print(two_sum_binary_search(numbers, -933))  "
      ]
    },
    {
      "cell_type": "code",
      "execution_count": 5,
      "metadata": {
        "colab": {
          "base_uri": "https://localhost:8080/"
        },
        "id": "4trgx3qMmf66",
        "outputId": "6fdf020d-687e-41b7-a807-6f26db3b6636"
      },
      "outputs": [
        {
          "output_type": "stream",
          "name": "stdout",
          "text": [
            "None\n"
          ]
        }
      ],
      "source": [
        "def two_sum_hash_table(arr, total):\n",
        "    hash_table = dict()\n",
        "\n",
        "    for i in range(len(arr)):\n",
        "        num = total - arr[i]\n",
        "        if num in hash_table:\n",
        "            return i, hash_table[num]\n",
        "        else:\n",
        "            hash_table[arr[i]] = i\n",
        "    return None\n",
        "\n",
        "\n",
        "print(two_sum_hash_table(numbers, 888094771))"
      ]
    },
    {
      "cell_type": "markdown",
      "source": [
        "Через бинарный поиск"
      ],
      "metadata": {
        "id": "QAZgLYh7Cj0p"
      }
    },
    {
      "cell_type": "code",
      "source": [],
      "metadata": {
        "id": "dtV21CbO97kx"
      },
      "execution_count": null,
      "outputs": []
    },
    {
      "cell_type": "markdown",
      "source": [],
      "metadata": {
        "id": "lCiYMPMI975m"
      }
    },
    {
      "cell_type": "code",
      "execution_count": 13,
      "metadata": {
        "id": "r976PT0O-N7O",
        "colab": {
          "base_uri": "https://localhost:8080/"
        },
        "outputId": "d0b3d45f-d03c-498e-8d88-2b1bf26c8386"
      },
      "outputs": [
        {
          "output_type": "stream",
          "name": "stdout",
          "text": [
            "(111079, 82191)  an  -933\n",
            "(14806, 230)  an  -932\n",
            "(58856, 3048)  an  -840\n",
            "(105332, 24233)  an  -839\n",
            "(421813, 211210)  an  -747\n",
            "(32115, 19668)  an  -746\n",
            "(68061, 67468)  an  -653\n",
            "(100945, 65374)  an  -652\n",
            "(123376, 34043)  an  -560\n",
            "(120682, 92811)  an  -559\n",
            "(39289, 24415)  an  -467\n",
            "(150914, 109392)  an  -466\n",
            "(126485, 108555)  an  -374\n",
            "(11241, 9723)  an  -373\n",
            "(26477, 22829)  an  -281\n",
            "(90976, 53061)  an  -280\n",
            "(44207, 17550)  an  -188\n",
            "(46335, 4663)  an  -187\n",
            "(408279, 161017)  an  -95\n",
            "(63879, 29947)  an  -94\n",
            "(42307, 35533)  an  -1\n",
            "(47743, 27518)  an  92\n",
            "(238758, 210142)  an  93\n",
            "(151051, 80439)  an  185\n",
            "(179185, 89475)  an  186\n",
            "(89241, 32142)  an  278\n",
            "(58119, 29150)  an  279\n",
            "(102200, 64796)  an  371\n",
            "(89215, 80520)  an  372\n",
            "(22715, 16169)  an  464\n",
            "(58246, 40650)  an  465\n",
            "(149126, 43128)  an  557\n",
            "(21372, 17106)  an  558\n",
            "(139477, 130783)  an  650\n",
            "(103227, 46588)  an  651\n",
            "(121001, 45221)  an  744\n",
            "(361271, 279255)  an  745\n",
            "(104747, 55958)  an  837\n",
            "(5045, 2061)  an  838\n",
            "(32527, 22886)  an  930\n",
            "(11573, 9736)  an  931\n"
          ]
        },
        {
          "output_type": "execute_result",
          "data": {
            "text/plain": [
              "41"
            ]
          },
          "metadata": {},
          "execution_count": 13
        }
      ],
      "source": [
        "t = -1000\n",
        "total = 0\n",
        "while t<=1000:\n",
        "   res = two_sum_hash_table(numbers, t)\n",
        "   if res != None:\n",
        "      total+=1\n",
        "      print(res, ' an ', t)\n",
        "   t+=1\n",
        "total"
      ]
    }
  ],
  "metadata": {
    "colab": {
      "provenance": [],
      "authorship_tag": "ABX9TyP3Hszp3Dhw5eYpDwRACBgo",
      "include_colab_link": true
    },
    "kernelspec": {
      "display_name": "Python 3",
      "name": "python3"
    },
    "language_info": {
      "name": "python"
    }
  },
  "nbformat": 4,
  "nbformat_minor": 0
}