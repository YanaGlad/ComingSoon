{
  "cells": [
    {
      "cell_type": "markdown",
      "metadata": {
        "id": "view-in-github",
        "colab_type": "text"
      },
      "source": [
        "<a href=\"https://colab.research.google.com/github/YanaGlad/Numerical-Methods/blob/master/kursovaya.ipynb\" target=\"_parent\"><img src=\"https://colab.research.google.com/assets/colab-badge.svg\" alt=\"Open In Colab\"/></a>"
      ]
    },
    {
      "cell_type": "code",
      "source": [
        "import numpy as np\n",
        "import time\n",
        "import matplotlib.pyplot as plt\n",
        "%matplotlib inline"
      ],
      "metadata": {
        "id": "jEPwNENPOvLd"
      },
      "execution_count": 10,
      "outputs": []
    },
    {
      "cell_type": "markdown",
      "metadata": {
        "id": "mYlAZx1TsBee"
      },
      "source": [
        "Считывание данных из файла"
      ]
    },
    {
      "cell_type": "code",
      "execution_count": 11,
      "metadata": {
        "id": "NjO0vpPOrJiu"
      },
      "outputs": [],
      "source": [
        "temp = set()\n",
        "\n",
        "with open(\"test.txt\", \"r\") as file:\n",
        "    for line in file:\n",
        "        temp.add(int(line))\n",
        "numbers = list(temp)"
      ]
    },
    {
      "cell_type": "code",
      "source": [
        "# Вывод длины массива чисел, в котором ведется поиск\n",
        "len(numbers)"
      ],
      "metadata": {
        "colab": {
          "base_uri": "https://localhost:8080/"
        },
        "id": "LheG1GdOZF2p",
        "outputId": "6ead8b0c-d76f-4daf-aa5d-81390bd9243b"
      },
      "execution_count": 12,
      "outputs": [
        {
          "output_type": "execute_result",
          "data": {
            "text/plain": [
              "8"
            ]
          },
          "metadata": {},
          "execution_count": 12
        }
      ]
    },
    {
      "cell_type": "code",
      "source": [
        "numbers"
      ],
      "metadata": {
        "id": "4oNuf9YNpzsB",
        "outputId": "7ee60b5c-8329-42cc-eaa5-f1e6f559d7a5",
        "colab": {
          "base_uri": "https://localhost:8080/"
        }
      },
      "execution_count": 13,
      "outputs": [
        {
          "output_type": "execute_result",
          "data": {
            "text/plain": [
              "[1, 2, 6, 7, 9, 11, -3, -1]"
            ]
          },
          "metadata": {},
          "execution_count": 13
        }
      ]
    },
    {
      "cell_type": "markdown",
      "source": [
        "Создание хеш-таблицы"
      ],
      "metadata": {
        "id": "PU4gxWGHpCNT"
      }
    },
    {
      "cell_type": "code",
      "source": [
        "hash_table = dict()\n",
        "\n",
        "for i in range(len(numbers)):\n",
        "     hash_table[numbers[i]] = i"
      ],
      "metadata": {
        "id": "1TspkxD_pE1B"
      },
      "execution_count": 17,
      "outputs": []
    },
    {
      "cell_type": "markdown",
      "source": [
        "Функция бинарного поиска целевого значения target в отсортированном массиве"
      ],
      "metadata": {
        "id": "wOPKo0p0txlg"
      }
    },
    {
      "cell_type": "code",
      "execution_count": 18,
      "metadata": {
        "id": "Ffe6t-qslqob"
      },
      "outputs": [],
      "source": [
        "def binary_search(lst, target):\n",
        "    low = 0\n",
        "    high = len(lst)\n",
        "    # цикл поиска целевого значения target с учетом значений левого и правого индексов массива\n",
        "    while low <= high:\n",
        "        mid = (low + high) //2\n",
        "        if low >= mid:\n",
        "            return None\n",
        "        # проверка: найдено ли целевое значение\n",
        "        if lst[mid] == target: # если целевое значение target найдено\n",
        "            return mid # возвращаем индекс найденного целевого значения\n",
        "        # если целевое значение target не найдено, меняем границы поиска\n",
        "        elif lst[mid] > target:\n",
        "            high = mid # верхняя граница становится mid\n",
        "        else:\n",
        "            low = mid # нижняя граница становится mid\n",
        "    return None"
      ]
    },
    {
      "cell_type": "markdown",
      "source": [
        "Функция бинарного поиска 2 чисел, дающих в сумме целевое значение total"
      ],
      "metadata": {
        "id": "fnPRt1V4vwnt"
      }
    },
    {
      "cell_type": "code",
      "execution_count": 19,
      "metadata": {
        "id": "WcGIxBt0mdrq"
      },
      "outputs": [],
      "source": [
        "def two_sum_binary_search(arr, total):\n",
        "    for i in range(len(arr)): # поиск в цикле по отсортированному массиву\n",
        "        num = total - arr[i]\n",
        "        num_idx = binary_search(arr, num) # вызов функции binary_search\n",
        "        if num_idx is not None:  \n",
        "            if num_idx != i:\n",
        "                return (i, num_idx)\n",
        "    return None\n"
      ]
    },
    {
      "cell_type": "markdown",
      "source": [
        "Функция поиска 2 чисел, дающих в сумме целевое значение total, с использованием хэш-таблицы"
      ],
      "metadata": {
        "id": "WNhANcOjwn_W"
      }
    },
    {
      "cell_type": "code",
      "execution_count": 20,
      "metadata": {
        "id": "4trgx3qMmf66"
      },
      "outputs": [],
      "source": [
        "def two_sum_hash_table(arr, total):\n",
        "    for i in range(len(arr)): # создаем хэш-таблицу: ключи - значения из отсортированного массива, значения - индексы значений из отсортированного массива\n",
        "        hash_table[arr[i]] = i\n",
        "    for i in range(len(arr)): # поиск в цикле по хэш-таблице   \n",
        "        num = total - arr[i]\n",
        "        if (num in hash_table) and (hash_table[num] != i):\n",
        "            return i, hash_table[num]\n",
        "    return None"
      ]
    },
    {
      "cell_type": "markdown",
      "metadata": {
        "id": "tNPCauMeW6cn"
      },
      "source": [
        "Общая функция для решения задачи"
      ]
    },
    {
      "cell_type": "code",
      "execution_count": 21,
      "metadata": {
        "id": "eH728IA7W6Fb"
      },
      "outputs": [],
      "source": [
        "def task(findSum):\n",
        "  t = -10000\n",
        "  total = 0\n",
        "  while t<=10000:\n",
        "     res = findSum(arr, t)\n",
        "     if res != None:\n",
        "         total+=1\n",
        "     t+=1\n",
        "  return total"
      ]
    },
    {
      "cell_type": "markdown",
      "metadata": {
        "id": "QAZgLYh7Cj0p"
      },
      "source": [
        "Решение задачи через бинарный поиск"
      ]
    },
    {
      "cell_type": "code",
      "source": [
        "t = time.time()\n",
        "arr = sorted(numbers) # сортировка массива\n",
        "t0 = time.time()- t\n",
        "print('Время сортировки массива: ', t0)"
      ],
      "metadata": {
        "colab": {
          "base_uri": "https://localhost:8080/"
        },
        "id": "OiUgf6O6QOt9",
        "outputId": "f1c3bc3d-e5d4-4222-b4db-d173757f89e4"
      },
      "execution_count": 24,
      "outputs": [
        {
          "output_type": "stream",
          "name": "stdout",
          "text": [
            "Время сортировки массива:  4.696846008300781e-05\n"
          ]
        }
      ]
    },
    {
      "cell_type": "code",
      "execution_count": 23,
      "metadata": {
        "colab": {
          "base_uri": "https://localhost:8080/"
        },
        "id": "r976PT0O-N7O",
        "outputId": "cab92dab-6aea-4780-fb7e-4311d3ab4220"
      },
      "outputs": [
        {
          "output_type": "stream",
          "name": "stdout",
          "text": [
            "Число найденных решений:  21\n",
            "Время бинарного поиска:  0.15079975128173828\n"
          ]
        }
      ],
      "source": [
        "t = time.time()\n",
        "print('Число найденных решений: ', task(two_sum_binary_search))\n",
        "t_t_1 = time.time()- t\n",
        "print('Время бинарного поиска: ', t_t_1)"
      ]
    },
    {
      "cell_type": "markdown",
      "metadata": {
        "id": "8568gLaMWyFy"
      },
      "source": [
        "Решение задачи через хэш-таблицы"
      ]
    },
    {
      "cell_type": "code",
      "execution_count": 25,
      "metadata": {
        "colab": {
          "base_uri": "https://localhost:8080/"
        },
        "id": "DmGNX-L2W159",
        "outputId": "a7393726-dd70-4b83-8d17-986469826656"
      },
      "outputs": [
        {
          "output_type": "stream",
          "name": "stdout",
          "text": [
            "Число найденных решений:  21\n",
            "Время поиска с использованием хэш-таблицы:  0.049900054931640625\n"
          ]
        }
      ],
      "source": [
        "t = time.time()\n",
        "print('Число найденных решений: ',task(two_sum_hash_table))\n",
        "t_t_2 = time.time()- t\n",
        "print('Время поиска с использованием хэш-таблицы: ',t_t_2)"
      ]
    },
    {
      "cell_type": "markdown",
      "source": [
        "Столбчатые диаграммы по времени поиска"
      ],
      "metadata": {
        "id": "1ugWwH3qyfor"
      }
    },
    {
      "cell_type": "code",
      "source": [
        "# столбчатые диаграммы по времени поиска\n",
        "x = np.arange(1, 3)\n",
        "y = [t_t_1, t_t_2]\n",
        "keys=['Время (бинарный поиск)', 'Время (хэш-таблица)']\n",
        "plt.bar(x,y,tick_label=keys)\n",
        "plt.show()"
      ],
      "metadata": {
        "colab": {
          "base_uri": "https://localhost:8080/",
          "height": 265
        },
        "id": "O14nNe4TOdYJ",
        "outputId": "65fc4475-0028-40c5-d784-9a8b6c0db3e4"
      },
      "execution_count": 26,
      "outputs": [
        {
          "output_type": "display_data",
          "data": {
            "text/plain": [
              "<Figure size 432x288 with 1 Axes>"
            ],
            "image/png": "[encoded data removed]"
          },
          "metadata": {
            "needs_background": "light"
          }
        }
      ]
    },
    {
      "cell_type": "markdown",
      "source": [
        "Решение задачи с использованием хэш-таблицы, но без сортировки массива"
      ],
      "metadata": {
        "id": "z7n9L2jFPXSm"
      }
    },
    {
      "cell_type": "code",
      "source": [
        "hash_table = dict()\n",
        "\n",
        "def two_sum_hash_table_1(arr, total):\n",
        "    for i in range(len(arr)):\n",
        "        num = total - arr[i]\n",
        "        if (num in hash_table) and (hash_table[num] != i):\n",
        "            return i, hash_table[num]\n",
        "        else:\n",
        "            hash_table[arr[i]] = i\n",
        "    return None\n"
      ],
      "metadata": {
        "id": "njz80nrJPWnQ"
      },
      "execution_count": 27,
      "outputs": []
    },
    {
      "cell_type": "code",
      "source": [
        "arr = numbers # несортированный массив\n",
        "t = time.time()\n",
        "print('Число найденных решений: ',task(two_sum_hash_table_1))\n",
        "t_t_22 = time.time()- t\n",
        "print('Время поиска с использованием хэш-таблицы: ',t_t_22)"
      ],
      "metadata": {
        "colab": {
          "base_uri": "https://localhost:8080/"
        },
        "id": "2gk3IfJbPw-G",
        "outputId": "b84e2b8d-0016-4153-98b6-d4f3e53454e6"
      },
      "execution_count": 28,
      "outputs": [
        {
          "output_type": "stream",
          "name": "stdout",
          "text": [
            "Число найденных решений:  21\n",
            "Время поиска с использованием хэш-таблицы:  0.03930997848510742\n"
          ]
        }
      ]
    },
    {
      "cell_type": "code",
      "source": [
        "# столбчатые диаграммы по времени поиска\n",
        "x = np.arange(1, 3)\n",
        "y = [t_t_1, t_t_22]\n",
        "keys=['Время (бинарный поиск)', 'Время (хэш-таблица)']\n",
        "plt.bar(x,y,tick_label=keys)\n",
        "plt.show()"
      ],
      "metadata": {
        "colab": {
          "base_uri": "https://localhost:8080/",
          "height": 265
        },
        "id": "j9YFpGvYP58n",
        "outputId": "356ea8e2-cd5e-48a7-e0c1-2e67a7b3f7d2"
      },
      "execution_count": 29,
      "outputs": [
        {
          "output_type": "display_data",
          "data": {
            "text/plain": [
              "<Figure size 432x288 with 1 Axes>"
            ],
            "image/png": "[encoded data removed]"
          },
          "metadata": {
            "needs_background": "light"
          }
        }
      ]
    }
  ],
  "metadata": {
    "colab": {
      "provenance": [],
      "include_colab_link": true
    },
    "kernelspec": {
      "display_name": "Python 3",
      "name": "python3"
    },
    "language_info": {
      "name": "python"
    }
  },
  "nbformat": 4,
  "nbformat_minor": 0
}