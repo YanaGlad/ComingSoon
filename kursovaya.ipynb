{
  "cells": [
    {
      "cell_type": "markdown",
      "metadata": {
        "id": "view-in-github",
        "colab_type": "text"
      },
      "source": [
        "<a href=\"https://colab.research.google.com/github/YanaGlad/Numerical-Methods/blob/master/kursovaya.ipynb\" target=\"_parent\"><img src=\"https://colab.research.google.com/assets/colab-badge.svg\" alt=\"Open In Colab\"/></a>"
      ]
    },
    {
      "cell_type": "code",
      "source": [
        "import numpy as np\n",
        "import time\n",
        "import matplotlib.pyplot as plt\n",
        "%matplotlib inline"
      ],
      "metadata": {
        "id": "jEPwNENPOvLd"
      },
      "execution_count": 1,
      "outputs": []
    },
    {
      "cell_type": "markdown",
      "metadata": {
        "id": "mYlAZx1TsBee"
      },
      "source": [
        "Считывание данных из файла"
      ]
    },
    {
      "cell_type": "code",
      "execution_count": 2,
      "metadata": {
        "id": "NjO0vpPOrJiu"
      },
      "outputs": [],
      "source": [
        "temp = set()\n",
        "\n",
        "with open(\"test.txt\", \"r\") as file:\n",
        "    for line in file:\n",
        "        temp.add(int(line))\n",
        "numbers = list(temp)"
      ]
    },
    {
      "cell_type": "code",
      "source": [
        "# Вывод длины массива чисел, в котором ведется поиск\n",
        "len(numbers)"
      ],
      "metadata": {
        "colab": {
          "base_uri": "https://localhost:8080/"
        },
        "id": "LheG1GdOZF2p",
        "outputId": "1859bc03-eb9a-4633-d371-80b99e38d455"
      },
      "execution_count": 3,
      "outputs": [
        {
          "output_type": "execute_result",
          "data": {
            "text/plain": [
              "8"
            ]
          },
          "metadata": {},
          "execution_count": 3
        }
      ]
    },
    {
      "cell_type": "code",
      "source": [
        "numbers"
      ],
      "metadata": {
        "id": "4oNuf9YNpzsB",
        "outputId": "3cf7abb4-81cf-4f76-c9d2-3c34680a3ec7",
        "colab": {
          "base_uri": "https://localhost:8080/"
        }
      },
      "execution_count": 4,
      "outputs": [
        {
          "output_type": "execute_result",
          "data": {
            "text/plain": [
              "[1, 2, 6, 7, 9, 11, -3, -1]"
            ]
          },
          "metadata": {},
          "execution_count": 4
        }
      ]
    },
    {
      "cell_type": "markdown",
      "source": [
        "Создание хеш-таблицы"
      ],
      "metadata": {
        "id": "PU4gxWGHpCNT"
      }
    },
    {
      "cell_type": "code",
      "source": [
        "hash_table = dict()\n",
        "\n",
        "for i in range(len(numbers)):\n",
        "     hash_table[numbers[i]] = i"
      ],
      "metadata": {
        "id": "1TspkxD_pE1B"
      },
      "execution_count": 5,
      "outputs": []
    },
    {
      "cell_type": "code",
      "source": [
        "hash_table"
      ],
      "metadata": {
        "colab": {
          "base_uri": "https://localhost:8080/"
        },
        "id": "VjtQv9PGYRsL",
        "outputId": "07ef05fd-0061-411e-94bb-99f60ea17c5d"
      },
      "execution_count": 6,
      "outputs": [
        {
          "output_type": "execute_result",
          "data": {
            "text/plain": [
              "{1: 0, 2: 1, 6: 2, 7: 3, 9: 4, 11: 5, -3: 6, -1: 7}"
            ]
          },
          "metadata": {},
          "execution_count": 6
        }
      ]
    },
    {
      "cell_type": "markdown",
      "source": [
        "Функция бинарного поиска целевого значения target в отсортированном массиве"
      ],
      "metadata": {
        "id": "wOPKo0p0txlg"
      }
    },
    {
      "cell_type": "code",
      "execution_count": 7,
      "metadata": {
        "id": "Ffe6t-qslqob"
      },
      "outputs": [],
      "source": [
        "def binary_search(lst, target):\n",
        "    low = 0\n",
        "    high = len(lst) - 1\n",
        "    # цикл поиска целевого значения target с учетом значений левого и правого индексов массива\n",
        "    while low <= high:\n",
        "        mid = (low + high) // 2\n",
        "        if lst[mid] == target:\n",
        "            return mid\n",
        "        elif lst[mid] > target:\n",
        "            high = mid - 1\n",
        "        else:\n",
        "            low = mid + 1\n",
        "    return None"
      ]
    },
    {
      "cell_type": "markdown",
      "source": [
        "Функция бинарного поиска 2 чисел, дающих в сумме целевое значение total"
      ],
      "metadata": {
        "id": "fnPRt1V4vwnt"
      }
    },
    {
      "cell_type": "code",
      "execution_count": 8,
      "metadata": {
        "id": "WcGIxBt0mdrq"
      },
      "outputs": [],
      "source": [
        "def two_sum_binary_search(arr, total):\n",
        "    for i in range(len(arr)): # поиск в цикле по отсортированному массиву\n",
        "        num = total - arr[i]\n",
        "        num_idx = binary_search(arr, num) # вызов функции binary_search\n",
        "        if num_idx is not None:  \n",
        "            if num_idx != i:\n",
        "                return (i, num_idx)\n",
        "    return None"
      ]
    },
    {
      "cell_type": "markdown",
      "source": [
        "Функция поиска 2 чисел, дающих в сумме целевое значение total, с использованием хэш-таблицы"
      ],
      "metadata": {
        "id": "WNhANcOjwn_W"
      }
    },
    {
      "cell_type": "code",
      "execution_count": 9,
      "metadata": {
        "id": "4trgx3qMmf66"
      },
      "outputs": [],
      "source": [
        "def two_sum_hash_table(arr, total):\n",
        "    for i in range(len(arr)):\n",
        "        num = total - arr[i]\n",
        "        if (num in hash_table) and (hash_table[num] != i):\n",
        "            return i, hash_table[num]\n",
        "    return None"
      ]
    },
    {
      "cell_type": "markdown",
      "metadata": {
        "id": "tNPCauMeW6cn"
      },
      "source": [
        "Общая функция для решения задачи"
      ]
    },
    {
      "cell_type": "code",
      "execution_count": 10,
      "metadata": {
        "id": "eH728IA7W6Fb"
      },
      "outputs": [],
      "source": [
        "def task(findSum, start, end):\n",
        "  t = start\n",
        "  total = 0\n",
        "  while t <= end:\n",
        "     res = findSum(arr, t)\n",
        "     if res != None:\n",
        "         total+=1\n",
        "     t+=1\n",
        "  return total"
      ]
    },
    {
      "cell_type": "markdown",
      "metadata": {
        "id": "QAZgLYh7Cj0p"
      },
      "source": [
        "Решение задачи через бинарный поиск"
      ]
    },
    {
      "cell_type": "code",
      "source": [
        "t = time.time()\n",
        "arr = sorted(numbers) # сортировка массива\n",
        "t0 = time.time()- t\n",
        "print('Время сортировки массива: ', t0)"
      ],
      "metadata": {
        "colab": {
          "base_uri": "https://localhost:8080/"
        },
        "id": "OiUgf6O6QOt9",
        "outputId": "bc1b3c36-4152-4fbc-cc0d-9bec2f12d421"
      },
      "execution_count": 11,
      "outputs": [
        {
          "output_type": "stream",
          "name": "stdout",
          "text": [
            "Время сортировки массива:  8.511543273925781e-05\n"
          ]
        }
      ]
    },
    {
      "cell_type": "code",
      "execution_count": 12,
      "metadata": {
        "colab": {
          "base_uri": "https://localhost:8080/"
        },
        "id": "r976PT0O-N7O",
        "outputId": "b0afe066-4cf1-46e9-917f-b6d18631b14d"
      },
      "outputs": [
        {
          "output_type": "stream",
          "name": "stdout",
          "text": [
            "Число найденных решений:  8\n",
            "Время бинарного поиска:  0.0015590190887451172\n"
          ]
        }
      ],
      "source": [
        "t = time.time()\n",
        "print('Число найденных решений: ', task(two_sum_binary_search, 3, 10))\n",
        "t_t_1 = time.time()- t\n",
        "print('Время бинарного поиска: ', t_t_1)"
      ]
    },
    {
      "cell_type": "markdown",
      "metadata": {
        "id": "8568gLaMWyFy"
      },
      "source": [
        "Решение задачи через хэш-таблицы"
      ]
    },
    {
      "cell_type": "code",
      "execution_count": 13,
      "metadata": {
        "colab": {
          "base_uri": "https://localhost:8080/"
        },
        "id": "DmGNX-L2W159",
        "outputId": "7db651a6-89f8-4a37-aa68-21132d100c12"
      },
      "outputs": [
        {
          "output_type": "stream",
          "name": "stdout",
          "text": [
            "Число найденных решений:  8\n",
            "Время поиска с использованием хэш-таблицы:  0.00015926361083984375\n"
          ]
        }
      ],
      "source": [
        "arr = numbers # несортированный массив\n",
        "t = time.time()\n",
        "print('Число найденных решений: ',task(two_sum_hash_table, 3, 10))\n",
        "t_t_2 = time.time()- t\n",
        "print('Время поиска с использованием хэш-таблицы: ',t_t_2)"
      ]
    },
    {
      "cell_type": "markdown",
      "source": [
        "Столбчатые диаграммы по времени поиска"
      ],
      "metadata": {
        "id": "1ugWwH3qyfor"
      }
    },
    {
      "cell_type": "code",
      "source": [
        "x = np.arange(1, 3)\n",
        "y = [t_t_1 + t0, t_t_2]\n",
        "keys=['Время (бинарный поиск)', 'Время (хэш-таблица)']\n",
        "plt.bar(x,y,tick_label=keys)\n",
        "plt.show()"
      ],
      "metadata": {
        "colab": {
          "base_uri": "https://localhost:8080/",
          "height": 265
        },
        "id": "O14nNe4TOdYJ",
        "outputId": "a4da9474-b1e6-4694-d706-8870072ede85"
      },
      "execution_count": 14,
      "outputs": [
        {
          "output_type": "display_data",
          "data": {
            "text/plain": [
              "<Figure size 432x288 with 1 Axes>"
            ],
            "image/png": "[encoded data removed]"
          },
          "metadata": {
            "needs_background": "light"
          }
        }
      ]
    }
  ],
  "metadata": {
    "colab": {
      "provenance": [],
      "include_colab_link": true
    },
    "kernelspec": {
      "display_name": "Python 3",
      "name": "python3"
    },
    "language_info": {
      "name": "python"
    }
  },
  "nbformat": 4,
  "nbformat_minor": 0
}