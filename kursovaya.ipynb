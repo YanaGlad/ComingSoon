{
  "cells": [
    {
      "cell_type": "markdown",
      "metadata": {
        "id": "view-in-github",
        "colab_type": "text"
      },
      "source": [
        "<a href=\"https://colab.research.google.com/github/YanaGlad/Numerical-Methods/blob/master/kursovaya.ipynb\" target=\"_parent\"><img src=\"https://colab.research.google.com/assets/colab-badge.svg\" alt=\"Open In Colab\"/></a>"
      ]
    },
    {
      "cell_type": "markdown",
      "metadata": {
        "id": "mYlAZx1TsBee"
      },
      "source": [
        "Считаем данные из файла"
      ]
    },
    {
      "cell_type": "code",
      "execution_count": 46,
      "metadata": {
        "id": "NjO0vpPOrJiu"
      },
      "outputs": [],
      "source": [
        "import time\n",
        "\n",
        "temp = set()\n",
        "hash_table = dict()\n",
        "\n",
        "with open(\"test.txt\", \"r\") as file:\n",
        "    for line in file:\n",
        "        temp.add(int(line))\n",
        "numbers = list(temp)"
      ]
    },
    {
      "cell_type": "code",
      "source": [
        "len(numbers)"
      ],
      "metadata": {
        "colab": {
          "base_uri": "https://localhost:8080/"
        },
        "id": "LheG1GdOZF2p",
        "outputId": "d77b7121-a1f8-45b0-c323-734b17fcefdb"
      },
      "execution_count": 47,
      "outputs": [
        {
          "output_type": "execute_result",
          "data": {
            "text/plain": [
              "4384"
            ]
          },
          "metadata": {},
          "execution_count": 47
        }
      ]
    },
    {
      "cell_type": "code",
      "execution_count": 48,
      "metadata": {
        "id": "Ffe6t-qslqob"
      },
      "outputs": [],
      "source": [
        "def binary_search(lst, target):\n",
        "    low = 0\n",
        "    high = len(lst)\n",
        "\n",
        "\n",
        "    while low <= high:\n",
        "        mid = (low + high) \n",
        "\n",
        "        if low >= mid:\n",
        "            return None\n",
        "\n",
        "        if lst[mid] == target:\n",
        "            return mid\n",
        "\n",
        "        elif lst[mid] > target:\n",
        "            high = mid \n",
        "        else:\n",
        "            low = mid  \n",
        "    return None"
      ]
    },
    {
      "cell_type": "code",
      "execution_count": 50,
      "metadata": {
        "id": "WcGIxBt0mdrq"
      },
      "outputs": [],
      "source": [
        "def two_sum_binary_search(arr, total):\n",
        "    length = len(arr) \n",
        "    arr = sorted(arr)\n",
        "    for i in range(length):\n",
        "        num = total - arr[i]\n",
        "        num_idx = binary_search(arr, num)\n",
        "        if num_idx is not None:  \n",
        "            if num_idx != i:\n",
        "                return (i, num_idx)\n",
        "    return None\n"
      ]
    },
    {
      "cell_type": "code",
      "execution_count": 51,
      "metadata": {
        "id": "4trgx3qMmf66"
      },
      "outputs": [],
      "source": [
        "def two_sum_hash_table(arr, total):\n",
        "    for i in range(len(arr)):\n",
        "        num = total - arr[i]\n",
        "        if num in hash_table:\n",
        "            return i, hash_table[num]\n",
        "        else:\n",
        "            hash_table[arr[i]] = i\n",
        "    return None\n"
      ]
    },
    {
      "cell_type": "markdown",
      "metadata": {
        "id": "tNPCauMeW6cn"
      },
      "source": [
        "Общая функция для решения задачи"
      ]
    },
    {
      "cell_type": "code",
      "execution_count": 52,
      "metadata": {
        "id": "eH728IA7W6Fb"
      },
      "outputs": [],
      "source": [
        "def task(findSum):\n",
        "  t = -10000\n",
        "  total = 0\n",
        "  while t<=10000:\n",
        "     res = two_sum_binary_search(numbers, t)\n",
        "     if res != None:\n",
        "         total+=1\n",
        "     t+=1\n",
        "  return total"
      ]
    },
    {
      "cell_type": "markdown",
      "metadata": {
        "id": "QAZgLYh7Cj0p"
      },
      "source": [
        "Через бинарный поиск"
      ]
    },
    {
      "cell_type": "code",
      "execution_count": 53,
      "metadata": {
        "colab": {
          "base_uri": "https://localhost:8080/"
        },
        "id": "r976PT0O-N7O",
        "outputId": "fa069b11-3cef-4b29-eea3-42a5b86078a8"
      },
      "outputs": [
        {
          "output_type": "stream",
          "name": "stdout",
          "text": [
            "4\n",
            "314.22587847709656\n"
          ]
        }
      ],
      "source": [
        "t = time.time()\n",
        "print(task(two_sum_binary_search))\n",
        "t_t = time.time()- t\n",
        "print(t_t)"
      ]
    },
    {
      "cell_type": "markdown",
      "metadata": {
        "id": "8568gLaMWyFy"
      },
      "source": [
        "Через хэш-таблицы"
      ]
    },
    {
      "cell_type": "code",
      "execution_count": 54,
      "metadata": {
        "colab": {
          "base_uri": "https://localhost:8080/"
        },
        "id": "DmGNX-L2W159",
        "outputId": "c714047e-588c-4706-f85d-4e9a7b31405a"
      },
      "outputs": [
        {
          "output_type": "stream",
          "name": "stdout",
          "text": [
            "4\n",
            "311.8161745071411\n"
          ]
        }
      ],
      "source": [
        "t = time.time()\n",
        "print(task(two_sum_hash_table))\n",
        "t_t = time.time()- t\n",
        "print(t_t)"
      ]
    }
  ],
  "metadata": {
    "colab": {
      "provenance": [],
      "authorship_tag": "ABX9TyPihAusVOi+vKrzvV3fx9MP",
      "include_colab_link": true
    },
    "kernelspec": {
      "display_name": "Python 3",
      "name": "python3"
    },
    "language_info": {
      "name": "python"
    }
  },
  "nbformat": 4,
  "nbformat_minor": 0
}