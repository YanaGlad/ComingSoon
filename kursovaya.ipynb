{
  "nbformat": 4,
  "nbformat_minor": 0,
  "metadata": {
    "colab": {
      "provenance": [],
      "authorship_tag": "ABX9TyP/wapKwyFPZ5PhQsW0QJSF",
      "include_colab_link": true
    },
    "kernelspec": {
      "name": "python3",
      "display_name": "Python 3"
    },
    "language_info": {
      "name": "python"
    }
  },
  "cells": [
    {
      "cell_type": "markdown",
      "metadata": {
        "id": "view-in-github",
        "colab_type": "text"
      },
      "source": [
        "<a href=\"https://colab.research.google.com/github/YanaGlad/Numerical-Methods/blob/master/kursovaya.ipynb\" target=\"_parent\"><img src=\"https://colab.research.google.com/assets/colab-badge.svg\" alt=\"Open In Colab\"/></a>"
      ]
    },
    {
      "cell_type": "markdown",
      "source": [
        "Считаем данные из файла"
      ],
      "metadata": {
        "id": "mYlAZx1TsBee"
      }
    },
    {
      "cell_type": "code",
      "source": [
        "numbers = []\n",
        "with open(\"test.txt\", \"r\") as file:\n",
        "    for line in file:\n",
        "        numbers.append(int(line))"
      ],
      "metadata": {
        "id": "NjO0vpPOrJiu"
      },
      "execution_count": 17,
      "outputs": []
    },
    {
      "cell_type": "code",
      "source": [
        "def binary_search(lst, target):\n",
        "    low = 0\n",
        "    high = len(lst) - 1\n",
        "    while low <= high:\n",
        "        mid = (low + high) // 2\n",
        "        if lst[mid] == target:\n",
        "            return mid\n",
        "        elif lst[mid] > target:\n",
        "            high = mid - 1\n",
        "        else:\n",
        "            low = mid + 1\n",
        "    return None\n",
        "\n",
        "\n",
        "def two_sum_binary_search(arr, total):\n",
        "    length = len(arr) // 2\n",
        "    arr = sorted(arr)\n",
        "    result = []\n",
        "    for i in range(length):\n",
        "        num = total - arr[i]\n",
        "        num_idx = binary_search(arr, num)\n",
        "        if num_idx is not None:  \n",
        "            if num_idx != i:\n",
        "                result.append((i, num_idx))\n",
        "    return result\n",
        "\n",
        "\n",
        "print(two_sum_binary_search(numbers, 10))  "
      ],
      "metadata": {
        "colab": {
          "base_uri": "https://localhost:8080/"
        },
        "id": "WcGIxBt0mdrq",
        "outputId": "e9282a3e-41ce-4050-f965-e883e7d52a83"
      },
      "execution_count": 27,
      "outputs": [
        {
          "output_type": "stream",
          "name": "stdout",
          "text": [
            "[(1, 7), (2, 6)]\n"
          ]
        }
      ]
    },
    {
      "cell_type": "code",
      "source": [
        "def two_sum_hash_table(arr, total):\n",
        "    hash_table = dict()\n",
        "    result = []\n",
        "\n",
        "    for i in range(len(arr)):\n",
        "        num = total - arr[i]\n",
        "        if num in hash_table:\n",
        "            result.append((i, hash_table[num]))\n",
        "        else:\n",
        "            hash_table[arr[i]] = i\n",
        "    return result\n",
        "\n",
        "\n",
        "print(two_sum_hash_table(numbers, 10))"
      ],
      "metadata": {
        "colab": {
          "base_uri": "https://localhost:8080/"
        },
        "id": "4trgx3qMmf66",
        "outputId": "abb5509d-1a09-44cc-d4f3-9e04f4d998ef"
      },
      "execution_count": 24,
      "outputs": [
        {
          "output_type": "stream",
          "name": "stdout",
          "text": [
            "[(6, 2), (7, 1)]\n"
          ]
        }
      ]
    }
  ]
}