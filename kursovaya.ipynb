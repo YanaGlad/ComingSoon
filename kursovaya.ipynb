{
  "cells": [
    {
      "cell_type": "markdown",
      "metadata": {
        "id": "view-in-github",
        "colab_type": "text"
      },
      "source": [
        "<a href=\"https://colab.research.google.com/github/YanaGlad/Numerical-Methods/blob/master/kursovaya.ipynb\" target=\"_parent\"><img src=\"https://colab.research.google.com/assets/colab-badge.svg\" alt=\"Open In Colab\"/></a>"
      ]
    },
    {
      "cell_type": "markdown",
      "metadata": {
        "id": "mYlAZx1TsBee"
      },
      "source": [
        "Считаем данные из файла"
      ]
    },
    {
      "cell_type": "code",
      "execution_count": 4,
      "metadata": {
        "id": "NjO0vpPOrJiu"
      },
      "outputs": [],
      "source": [
        "numbers = []\n",
        "with open(\"test.txt\", \"r\") as file:\n",
        "    for line in file:\n",
        "        numbers.append(int(line))"
      ]
    },
    {
      "cell_type": "code",
      "execution_count": 5,
      "metadata": {
        "id": "Ffe6t-qslqob"
      },
      "outputs": [],
      "source": [
        "def binary_search(lst, target):\n",
        "    low = 0\n",
        "    high = len(lst) - 1\n",
        "    while low <= high:\n",
        "        mid = (low + high) \n",
        "        if lst[mid] == target:\n",
        "            return mid\n",
        "        elif lst[mid] > target:\n",
        "            high = mid - 1\n",
        "        else:\n",
        "            low = mid + 1\n",
        "    return None"
      ]
    },
    {
      "cell_type": "code",
      "execution_count": 30,
      "metadata": {
        "colab": {
          "base_uri": "https://localhost:8080/"
        },
        "id": "WcGIxBt0mdrq",
        "outputId": "7003f0fb-92f4-4366-d899-b060d9152197"
      },
      "outputs": [
        {
          "output_type": "stream",
          "name": "stdout",
          "text": [
            "(15885, 103997)\n"
          ]
        }
      ],
      "source": [
        "def two_sum_binary_search(arr, total):\n",
        "    length = len(arr) \n",
        "    arr = sorted(arr)\n",
        "    for i in range(length):\n",
        "        num = total - arr[i]\n",
        "        num_idx = binary_search(arr, num)\n",
        "        if num_idx is not None:  \n",
        "            if num_idx != i:\n",
        "                return (i, num_idx)\n",
        "    return None\n",
        "\n",
        "\n",
        "print(two_sum_binary_search(numbers, 888094771))  "
      ]
    },
    {
      "cell_type": "code",
      "execution_count": 15,
      "metadata": {
        "colab": {
          "base_uri": "https://localhost:8080/"
        },
        "id": "4trgx3qMmf66",
        "outputId": "374f4d7d-596c-439d-a5f2-8e0a85ea8ab8"
      },
      "outputs": [
        {
          "output_type": "stream",
          "name": "stdout",
          "text": [
            "(50112, 16145)\n"
          ]
        }
      ],
      "source": [
        "def two_sum_hash_table(arr, total):\n",
        "    hash_table = dict()\n",
        "\n",
        "    for i in range(len(arr)):\n",
        "        num = total - arr[i]\n",
        "        if num in hash_table:\n",
        "            return i, hash_table[num]\n",
        "        else:\n",
        "            hash_table[arr[i]] = i\n",
        "    return None\n",
        "\n",
        "\n",
        "print(two_sum_hash_table(numbers, 888094771))"
      ]
    },
    {
      "cell_type": "markdown",
      "source": [
        "Через бинарный поиск"
      ],
      "metadata": {
        "id": "QAZgLYh7Cj0p"
      }
    },
    {
      "cell_type": "code",
      "execution_count": 29,
      "metadata": {
        "id": "r976PT0O-N7O",
        "colab": {
          "base_uri": "https://localhost:8080/",
          "height": 1000
        },
        "outputId": "7d548ec6-3f1d-4ffd-9998-507f4409c13a"
      },
      "outputs": [
        {
          "output_type": "stream",
          "name": "stdout",
          "text": [
            "(86874, 14675)\n",
            "(49495, 35742)\n",
            "(22567, 10934)\n",
            "(20283, 15555)\n",
            "(49126, 19731)\n",
            "(106012, 66202)\n",
            "(76135, 66212)\n",
            "(75746, 68802)\n",
            "(105263, 57500)\n",
            "(26074, 20359)\n",
            "(60887, 33497)\n",
            "(45063, 35490)\n",
            "(78176, 29932)\n",
            "(46714, 5834)\n",
            "(58243, 10042)\n",
            "(27953, 16436)\n",
            "(27225, 6031)\n",
            "(23111, 22450)\n",
            "(94010, 79207)\n",
            "(41891, 15235)\n",
            "(110744, 30969)\n",
            "(21029, 2632)\n",
            "(98798, 79836)\n",
            "(71988, 61034)\n",
            "(24890, 5834)\n",
            "(81633, 22333)\n",
            "(75328, 10556)\n",
            "(73395, 34353)\n",
            "(24732, 23376)\n",
            "(60224, 38217)\n",
            "(61782, 18360)\n",
            "(30702, 10387)\n",
            "(86425, 10471)\n",
            "(27081, 19366)\n",
            "(83894, 48286)\n",
            "(14241, 9355)\n",
            "(39900, 24713)\n",
            "(14837, 3832)\n",
            "(67118, 530)\n",
            "(102837, 52490)\n",
            "(63911, 60230)\n",
            "(50120, 35990)\n",
            "(103934, 29134)\n",
            "(61079, 61043)\n",
            "(29604, 5539)\n",
            "(110672, 76386)\n",
            "(103108, 9686)\n",
            "(51991, 51972)\n",
            "(76352, 45887)\n",
            "(84354, 70865)\n",
            "(99870, 70216)\n",
            "(36960, 28333)\n",
            "(86711, 23328)\n",
            "(43767, 9840)\n",
            "(55632, 43715)\n",
            "(82098, 27236)\n",
            "(68941, 61944)\n",
            "(46028, 26739)\n",
            "(106441, 22714)\n",
            "(72237, 64428)\n",
            "(25418, 21899)\n",
            "(83649, 24488)\n",
            "(82953, 38420)\n",
            "(86367, 60875)\n",
            "(13268, 4137)\n",
            "(18716, 5671)\n",
            "(40460, 26077)\n",
            "(97926, 2795)\n",
            "(63491, 42363)\n",
            "(31803, 566)\n",
            "(95875, 77261)\n",
            "(55508, 7078)\n",
            "(99123, 19557)\n",
            "(45873, 981)\n",
            "(54470, 12480)\n",
            "(61787, 15215)\n",
            "(40460, 20581)\n",
            "(102316, 40671)\n",
            "(44986, 3351)\n",
            "(76950, 66170)\n",
            "(25072, 10963)\n",
            "(69195, 25866)\n",
            "(59577, 17326)\n",
            "(88093, 12419)\n",
            "(102260, 91185)\n",
            "(85589, 43879)\n",
            "(57012, 50243)\n",
            "(105057, 58550)\n",
            "(25016, 14672)\n",
            "(54317, 4072)\n",
            "(116875, 26998)\n",
            "(68911, 12356)\n",
            "(40888, 3224)\n",
            "(4983, 2574)\n",
            "(31195, 5107)\n",
            "(58200, 32233)\n",
            "(106017, 103185)\n",
            "(32611, 25932)\n",
            "(20336, 14302)\n",
            "(59876, 32511)\n",
            "(29635, 18398)\n",
            "(78088, 28730)\n",
            "(101857, 74519)\n",
            "(50385, 41327)\n",
            "(81017, 57527)\n",
            "(48868, 44036)\n",
            "(75999, 30890)\n",
            "(90983, 55840)\n",
            "(9178, 1115)\n",
            "(29163, 26774)\n",
            "(119119, 96919)\n",
            "(66505, 60969)\n",
            "(47928, 4855)\n",
            "(111950, 61421)\n",
            "(115982, 64490)\n",
            "(61989, 46993)\n",
            "(47810, 37042)\n",
            "(91051, 29887)\n",
            "(83948, 33986)\n",
            "(37152, 29879)\n",
            "(55931, 16254)\n",
            "(26351, 5376)\n",
            "(14763, 11037)\n",
            "(80963, 56826)\n",
            "(32252, 28278)\n",
            "(73228, 36984)\n",
            "(40584, 26700)\n",
            "(104457, 74884)\n",
            "(52493, 50184)\n",
            "(58799, 16799)\n",
            "(99578, 17665)\n",
            "(98003, 68409)\n",
            "(107364, 101592)\n",
            "(14806, 230)\n",
            "(58856, 3048)\n",
            "(118650, 30564)\n",
            "(32115, 19668)\n",
            "(68061, 67468)\n",
            "(111233, 73829)\n",
            "(39289, 24415)\n",
            "(11241, 9723)\n",
            "(26477, 22829)\n",
            "(113185, 12719)\n",
            "(44207, 17550)\n",
            "(46335, 4663)\n",
            "(63879, 29947)\n",
            "(42307, 35533)\n",
            "(47743, 27518)\n",
            "(105866, 68751)\n",
            "(109392, 100346)\n",
            "(58119, 29150)\n",
            "(88737, 2659)\n",
            "(22715, 16169)\n",
            "(58246, 40650)\n",
            "(21372, 17106)\n",
            "(93357, 63185)\n",
            "(89603, 31991)\n",
            "(111223, 29571)\n",
            "(5045, 2061)\n",
            "(32527, 22886)\n",
            "(11573, 9736)\n",
            "(83685, 26984)\n",
            "(53688, 51747)\n",
            "(67439, 10038)\n",
            "(82745, 24880)\n",
            "(102482, 10225)\n",
            "(45890, 38571)\n",
            "(34177, 10990)\n",
            "(75868, 49900)\n",
            "(92065, 63624)\n",
            "(7928, 5211)\n",
            "(10890, 5837)\n",
            "(58021, 42528)\n",
            "(82088, 22458)\n",
            "(107881, 45990)\n",
            "(98193, 56459)\n",
            "(56912, 40722)\n",
            "(47590, 2079)\n",
            "(29150, 20503)\n",
            "(13834, 12107)\n",
            "(34812, 28854)\n",
            "(39902, 22562)\n",
            "(73531, 51302)\n",
            "(32975, 26375)\n",
            "(43871, 25397)\n",
            "(84480, 55686)\n",
            "(68088, 64756)\n",
            "(78980, 60866)\n",
            "(36961, 3289)\n",
            "(109854, 103297)\n"
          ]
        },
        {
          "output_type": "error",
          "ename": "KeyboardInterrupt",
          "evalue": "ignored",
          "traceback": [
            "\u001b[0;31m---------------------------------------------------------------------------\u001b[0m",
            "\u001b[0;31mKeyboardInterrupt\u001b[0m                         Traceback (most recent call last)",
            "\u001b[0;32m<ipython-input-29-8163d5c5ab26>\u001b[0m in \u001b[0;36m<module>\u001b[0;34m\u001b[0m\n\u001b[1;32m      2\u001b[0m \u001b[0mtotal\u001b[0m \u001b[0;34m=\u001b[0m \u001b[0;36m0\u001b[0m\u001b[0;34m\u001b[0m\u001b[0;34m\u001b[0m\u001b[0m\n\u001b[1;32m      3\u001b[0m \u001b[0;32mwhile\u001b[0m \u001b[0mt\u001b[0m\u001b[0;34m<=\u001b[0m\u001b[0;36m10000\u001b[0m\u001b[0;34m:\u001b[0m\u001b[0;34m\u001b[0m\u001b[0;34m\u001b[0m\u001b[0m\n\u001b[0;32m----> 4\u001b[0;31m    \u001b[0mres\u001b[0m \u001b[0;34m=\u001b[0m \u001b[0mtwo_sum_hash_table\u001b[0m\u001b[0;34m(\u001b[0m\u001b[0mnumbers\u001b[0m\u001b[0;34m,\u001b[0m \u001b[0mt\u001b[0m\u001b[0;34m)\u001b[0m\u001b[0;34m\u001b[0m\u001b[0;34m\u001b[0m\u001b[0m\n\u001b[0m\u001b[1;32m      5\u001b[0m    \u001b[0;32mif\u001b[0m \u001b[0mres\u001b[0m \u001b[0;34m!=\u001b[0m \u001b[0;32mNone\u001b[0m\u001b[0;34m:\u001b[0m\u001b[0;34m\u001b[0m\u001b[0;34m\u001b[0m\u001b[0m\n\u001b[1;32m      6\u001b[0m       \u001b[0mtotal\u001b[0m\u001b[0;34m+=\u001b[0m\u001b[0;36m1\u001b[0m\u001b[0;34m\u001b[0m\u001b[0;34m\u001b[0m\u001b[0m\n",
            "\u001b[0;32m<ipython-input-15-41e8d1f0b2c9>\u001b[0m in \u001b[0;36mtwo_sum_hash_table\u001b[0;34m(arr, total)\u001b[0m\n\u001b[1;32m      7\u001b[0m             \u001b[0;32mreturn\u001b[0m \u001b[0mi\u001b[0m\u001b[0;34m,\u001b[0m \u001b[0mhash_table\u001b[0m\u001b[0;34m[\u001b[0m\u001b[0mnum\u001b[0m\u001b[0;34m]\u001b[0m\u001b[0;34m\u001b[0m\u001b[0;34m\u001b[0m\u001b[0m\n\u001b[1;32m      8\u001b[0m         \u001b[0;32melse\u001b[0m\u001b[0;34m:\u001b[0m\u001b[0;34m\u001b[0m\u001b[0;34m\u001b[0m\u001b[0m\n\u001b[0;32m----> 9\u001b[0;31m             \u001b[0mhash_table\u001b[0m\u001b[0;34m[\u001b[0m\u001b[0marr\u001b[0m\u001b[0;34m[\u001b[0m\u001b[0mi\u001b[0m\u001b[0;34m]\u001b[0m\u001b[0;34m]\u001b[0m \u001b[0;34m=\u001b[0m \u001b[0mi\u001b[0m\u001b[0;34m\u001b[0m\u001b[0;34m\u001b[0m\u001b[0m\n\u001b[0m\u001b[1;32m     10\u001b[0m     \u001b[0;32mreturn\u001b[0m \u001b[0;32mNone\u001b[0m\u001b[0;34m\u001b[0m\u001b[0;34m\u001b[0m\u001b[0m\n\u001b[1;32m     11\u001b[0m \u001b[0;34m\u001b[0m\u001b[0m\n",
            "\u001b[0;31mKeyboardInterrupt\u001b[0m: "
          ]
        }
      ],
      "source": [
        "t = -10000\n",
        "total = 0\n",
        "while t<=10000:\n",
        "   res = two_sum_hash_table(numbers, t)\n",
        "   if res != None:\n",
        "      total+=1\n",
        "      print(res)\n",
        "   t+=1\n",
        "total"
      ]
    }
  ],
  "metadata": {
    "colab": {
      "provenance": [],
      "authorship_tag": "ABX9TyMedi03jHXdg0fkZ7hn7ZY7",
      "include_colab_link": true
    },
    "kernelspec": {
      "display_name": "Python 3",
      "name": "python3"
    },
    "language_info": {
      "name": "python"
    }
  },
  "nbformat": 4,
  "nbformat_minor": 0
}