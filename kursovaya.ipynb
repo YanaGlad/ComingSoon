{
  "cells": [
    {
      "cell_type": "markdown",
      "metadata": {
        "id": "view-in-github",
        "colab_type": "text"
      },
      "source": [
        "<a href=\"https://colab.research.google.com/github/YanaGlad/Numerical-Methods/blob/master/kursovaya.ipynb\" target=\"_parent\"><img src=\"https://colab.research.google.com/assets/colab-badge.svg\" alt=\"Open In Colab\"/></a>"
      ]
    },
    {
      "cell_type": "code",
      "source": [
        "import numpy as np\n",
        "import time\n",
        "import matplotlib.pyplot as plt\n",
        "%matplotlib inline"
      ],
      "metadata": {
        "id": "jEPwNENPOvLd"
      },
      "execution_count": 81,
      "outputs": []
    },
    {
      "cell_type": "markdown",
      "metadata": {
        "id": "mYlAZx1TsBee"
      },
      "source": [
        "Считывание данных из файла"
      ]
    },
    {
      "cell_type": "code",
      "execution_count": 82,
      "metadata": {
        "id": "NjO0vpPOrJiu"
      },
      "outputs": [],
      "source": [
        "temp = set()\n",
        "\n",
        "with open(\"test.txt\", \"r\") as file:\n",
        "    for line in file:\n",
        "        temp.add(int(line))\n",
        "numbers = list(temp)"
      ]
    },
    {
      "cell_type": "code",
      "source": [
        "# Вывод длины массива чисел, в котором ведется поиск\n",
        "len(numbers)"
      ],
      "metadata": {
        "colab": {
          "base_uri": "https://localhost:8080/"
        },
        "id": "LheG1GdOZF2p",
        "outputId": "b48f51e2-2bba-4822-cdc2-49905f14f0c9"
      },
      "execution_count": 83,
      "outputs": [
        {
          "output_type": "execute_result",
          "data": {
            "text/plain": [
              "8"
            ]
          },
          "metadata": {},
          "execution_count": 83
        }
      ]
    },
    {
      "cell_type": "code",
      "source": [
        "numbers"
      ],
      "metadata": {
        "id": "4oNuf9YNpzsB",
        "outputId": "1a33cf08-8b53-41d8-bfd7-0e73a717ba65",
        "colab": {
          "base_uri": "https://localhost:8080/"
        }
      },
      "execution_count": 84,
      "outputs": [
        {
          "output_type": "execute_result",
          "data": {
            "text/plain": [
              "[1, 2, 6, 7, 9, 11, -3, -1]"
            ]
          },
          "metadata": {},
          "execution_count": 84
        }
      ]
    },
    {
      "cell_type": "markdown",
      "source": [
        "Создание хеш-таблицы"
      ],
      "metadata": {
        "id": "PU4gxWGHpCNT"
      }
    },
    {
      "cell_type": "code",
      "source": [
        "hash_table = dict()\n",
        "\n",
        "for i in range(len(numbers)):\n",
        "     hash_table[numbers[i]] = i"
      ],
      "metadata": {
        "id": "1TspkxD_pE1B"
      },
      "execution_count": 85,
      "outputs": []
    },
    {
      "cell_type": "code",
      "source": [
        "hash_table"
      ],
      "metadata": {
        "id": "VjtQv9PGYRsL",
        "outputId": "b7de2a8e-0d63-49ec-d09b-be49335597f9",
        "colab": {
          "base_uri": "https://localhost:8080/"
        }
      },
      "execution_count": 86,
      "outputs": [
        {
          "output_type": "execute_result",
          "data": {
            "text/plain": [
              "{1: 0, 2: 1, 6: 2, 7: 3, 9: 4, 11: 5, -3: 6, -1: 7}"
            ]
          },
          "metadata": {},
          "execution_count": 86
        }
      ]
    },
    {
      "cell_type": "markdown",
      "source": [
        "Функция бинарного поиска целевого значения target в отсортированном массиве"
      ],
      "metadata": {
        "id": "wOPKo0p0txlg"
      }
    },
    {
      "cell_type": "code",
      "execution_count": 87,
      "metadata": {
        "id": "Ffe6t-qslqob"
      },
      "outputs": [],
      "source": [
        "def binary_search(lst, target):\n",
        "    low = 0\n",
        "    high = len(lst)\n",
        "    # цикл поиска целевого значения target с учетом значений левого и правого индексов массива\n",
        "    while low <= high:\n",
        "        mid = (low + high) //2\n",
        "        if low >= mid:\n",
        "            return None\n",
        "        # проверка: найдено ли целевое значение\n",
        "        if lst[mid] == target: # если целевое значение target найдено\n",
        "            return mid # возвращаем индекс найденного целевого значения\n",
        "        # если целевое значение target не найдено, меняем границы поиска\n",
        "        elif lst[mid] > target:\n",
        "            high = mid # верхняя граница становится mid\n",
        "        else:\n",
        "            low = mid # нижняя граница становится mid\n",
        "    return None"
      ]
    },
    {
      "cell_type": "markdown",
      "source": [
        "Функция бинарного поиска 2 чисел, дающих в сумме целевое значение total"
      ],
      "metadata": {
        "id": "fnPRt1V4vwnt"
      }
    },
    {
      "cell_type": "code",
      "execution_count": 88,
      "metadata": {
        "id": "WcGIxBt0mdrq"
      },
      "outputs": [],
      "source": [
        "def two_sum_binary_search(arr, total):\n",
        "    for i in range(len(arr)): # поиск в цикле по отсортированному массиву\n",
        "        num = total - arr[i]\n",
        "        num_idx = binary_search(arr, num) # вызов функции binary_search\n",
        "        if num_idx is not None:  \n",
        "            if num_idx != i:\n",
        "                return (i, num_idx)\n",
        "    return None\n"
      ]
    },
    {
      "cell_type": "markdown",
      "source": [
        "Функция поиска 2 чисел, дающих в сумме целевое значение total, с использованием хэш-таблицы"
      ],
      "metadata": {
        "id": "WNhANcOjwn_W"
      }
    },
    {
      "cell_type": "code",
      "execution_count": 90,
      "metadata": {
        "id": "4trgx3qMmf66"
      },
      "outputs": [],
      "source": [
        "def two_sum_hash_table(arr, total):\n",
        "    for i in range(len(arr)):\n",
        "        num = total - arr[i]\n",
        "        if (num in hash_table) and (hash_table[num] != i):\n",
        "            return i, hash_table[num]\n",
        "    return None"
      ]
    },
    {
      "cell_type": "markdown",
      "metadata": {
        "id": "tNPCauMeW6cn"
      },
      "source": [
        "Общая функция для решения задачи"
      ]
    },
    {
      "cell_type": "code",
      "execution_count": 91,
      "metadata": {
        "id": "eH728IA7W6Fb"
      },
      "outputs": [],
      "source": [
        "def task(findSum):\n",
        "  t = 3\n",
        "  total = 0\n",
        "  while t<=10:\n",
        "     res = findSum(arr, t)\n",
        "     if res != None:\n",
        "         total+=1\n",
        "     t+=1\n",
        "  return total"
      ]
    },
    {
      "cell_type": "markdown",
      "metadata": {
        "id": "QAZgLYh7Cj0p"
      },
      "source": [
        "Решение задачи через бинарный поиск"
      ]
    },
    {
      "cell_type": "code",
      "source": [
        "t = time.time()\n",
        "arr = sorted(numbers) # сортировка массива\n",
        "t0 = time.time()- t\n",
        "print('Время сортировки массива: ', t0)"
      ],
      "metadata": {
        "colab": {
          "base_uri": "https://localhost:8080/"
        },
        "id": "OiUgf6O6QOt9",
        "outputId": "b8503fdd-40e8-48a4-d740-c2b20b6c6bc6"
      },
      "execution_count": 97,
      "outputs": [
        {
          "output_type": "stream",
          "name": "stdout",
          "text": [
            "Время сортировки массива:  9.751319885253906e-05\n"
          ]
        }
      ]
    },
    {
      "cell_type": "code",
      "execution_count": 98,
      "metadata": {
        "colab": {
          "base_uri": "https://localhost:8080/"
        },
        "id": "r976PT0O-N7O",
        "outputId": "ed896296-90af-4c6a-b0d1-047cf392b51a"
      },
      "outputs": [
        {
          "output_type": "stream",
          "name": "stdout",
          "text": [
            "Число найденных решений:  8\n",
            "Время бинарного поиска:  0.0003745555877685547\n"
          ]
        }
      ],
      "source": [
        "t = time.time()\n",
        "print('Число найденных решений: ', task(two_sum_binary_search))\n",
        "t_t_1 = time.time()- t\n",
        "print('Время бинарного поиска: ', t_t_1)"
      ]
    },
    {
      "cell_type": "markdown",
      "metadata": {
        "id": "8568gLaMWyFy"
      },
      "source": [
        "Решение задачи через хэш-таблицы"
      ]
    },
    {
      "cell_type": "code",
      "execution_count": 99,
      "metadata": {
        "colab": {
          "base_uri": "https://localhost:8080/"
        },
        "id": "DmGNX-L2W159",
        "outputId": "6748af74-f82b-4a78-8d3a-b4d1c50b7a3c"
      },
      "outputs": [
        {
          "output_type": "stream",
          "name": "stdout",
          "text": [
            "Число найденных решений:  8\n",
            "Время поиска с использованием хэш-таблицы:  0.00022101402282714844\n"
          ]
        }
      ],
      "source": [
        "arr = numbers\n",
        "t = time.time()\n",
        "print('Число найденных решений: ',task(two_sum_hash_table))\n",
        "t_t_2 = time.time()- t\n",
        "print('Время поиска с использованием хэш-таблицы: ',t_t_2)"
      ]
    },
    {
      "cell_type": "markdown",
      "source": [
        "Столбчатые диаграммы по времени поиска"
      ],
      "metadata": {
        "id": "1ugWwH3qyfor"
      }
    },
    {
      "cell_type": "code",
      "source": [
        "x = np.arange(1, 3)\n",
        "y = [t_t_1+t0, t_t_2]\n",
        "keys=['Время (бинарный поиск)', 'Время (хэш-таблица)']\n",
        "plt.bar(x,y,tick_label=keys)\n",
        "plt.show()"
      ],
      "metadata": {
        "colab": {
          "base_uri": "https://localhost:8080/",
          "height": 265
        },
        "id": "O14nNe4TOdYJ",
        "outputId": "12e88754-825d-4bda-eb3e-512a0f0286c5"
      },
      "execution_count": 100,
      "outputs": [
        {
          "output_type": "display_data",
          "data": {
            "text/plain": [
              "<Figure size 432x288 with 1 Axes>"
            ],
            "image/png": "[encoded data removed]"
          },
          "metadata": {
            "needs_background": "light"
          }
        }
      ]
    }
  ],
  "metadata": {
    "colab": {
      "provenance": [],
      "include_colab_link": true
    },
    "kernelspec": {
      "display_name": "Python 3",
      "name": "python3"
    },
    "language_info": {
      "name": "python"
    }
  },
  "nbformat": 4,
  "nbformat_minor": 0
}